{
 "cells": [
  {
   "cell_type": "code",
   "execution_count": 2,
   "id": "7252986e",
   "metadata": {},
   "outputs": [
    {
     "data": {
      "text/plain": [
       "val len : 'a list -> int = <fun>\n"
      ]
     },
     "execution_count": 2,
     "metadata": {},
     "output_type": "execute_result"
    }
   ],
   "source": [
    "let rec len (list): int =\n",
    "  match list with\n",
    "  | [] -> 0\n",
    "  | [_] -> 1\n",
    "  | _ :: list' -> 1 + (len list')"
   ]
  },
  {
   "cell_type": "code",
   "execution_count": 12,
   "id": "da175383",
   "metadata": {},
   "outputs": [
    {
     "ename": "error",
     "evalue": "compile_error",
     "output_type": "error",
     "traceback": [
      "File \"[12]\", line 5, characters 23-29:\n5 |   | _ :: list' -> 1 + (length list')\n                           ^^^^^^\nError: Unbound value length\nHint: If this is a recursive definition,\nyou should add the 'rec' keyword on line 1\n"
     ]
    }
   ],
   "source": [
    "let length (list): int =\n",
    "  match list with\n",
    "  | [] -> 0\n",
    "  | [_] -> 1\n",
    "  | _ :: list' -> 1 + (length list')"
   ]
  },
  {
   "cell_type": "code",
   "execution_count": 3,
   "id": "ab765c22",
   "metadata": {},
   "outputs": [
    {
     "data": {
      "text/plain": [
       "- : int = 3\n"
      ]
     },
     "execution_count": 3,
     "metadata": {},
     "output_type": "execute_result"
    }
   ],
   "source": [
    "len([1; 2 ;3])"
   ]
  },
  {
   "cell_type": "code",
   "execution_count": 7,
   "id": "e7800b10",
   "metadata": {},
   "outputs": [
    {
     "data": {
      "text/plain": [
       "- : int = 4\n"
      ]
     },
     "execution_count": 7,
     "metadata": {},
     "output_type": "execute_result"
    }
   ],
   "source": [
    "len[(1,2); (2,3); (4,5); (1,3)]"
   ]
  },
  {
   "cell_type": "code",
   "execution_count": 8,
   "id": "c6c43f9f",
   "metadata": {},
   "outputs": [
    {
     "data": {
      "text/plain": [
       "- : int = 0\n"
      ]
     },
     "execution_count": 8,
     "metadata": {},
     "output_type": "execute_result"
    }
   ],
   "source": [
    "len([])"
   ]
  },
  {
   "cell_type": "code",
   "execution_count": 10,
   "id": "4289a5af",
   "metadata": {},
   "outputs": [
    {
     "data": {
      "text/plain": [
       "- : int = 2\n"
      ]
     },
     "execution_count": 10,
     "metadata": {},
     "output_type": "execute_result"
    }
   ],
   "source": [
    "len(2::[3])"
   ]
  },
  {
   "cell_type": "code",
   "execution_count": null,
   "id": "4c873935",
   "metadata": {},
   "outputs": [],
   "source": []
  }
 ],
 "metadata": {
  "kernelspec": {
   "display_name": "OCaml cs3200",
   "language": "OCaml",
   "name": "ocaml-jupyter-cs3200"
  },
  "language_info": {
   "codemirror_mode": "text/x-ocaml",
   "file_extension": ".ml",
   "mimetype": "text/x-ocaml",
   "name": "OCaml",
   "nbconverter_exporter": null,
   "pygments_lexer": "OCaml",
   "version": "4.14.0"
  }
 },
 "nbformat": 4,
 "nbformat_minor": 5
}
